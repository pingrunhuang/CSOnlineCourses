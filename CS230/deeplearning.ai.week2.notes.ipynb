{
 "cells": [
  {
   "cell_type": "code",
   "execution_count": null,
   "metadata": {},
   "outputs": [],
   "source": []
  },
  {
   "cell_type": "code",
   "execution_count": null,
   "metadata": {},
   "outputs": [],
   "source": []
  },
  {
   "cell_type": "markdown",
   "metadata": {},
   "source": [
    "#### 1. Activate function \n",
    "##### sigmoid\n",
    "$$\\widehat{y}=\\sigma\\left(w^{T} x+b\\right), \\sigma(z)=\\frac{1}{1+e^{-z}}$$"
   ]
  },
  {
   "cell_type": "code",
   "execution_count": null,
   "metadata": {},
   "outputs": [],
   "source": []
  },
  {
   "cell_type": "markdown",
   "metadata": {},
   "source": [
    "#### 2. Loss function describe how well a single training example performs\n",
    "In order to avoid local optimal, we need to find a cost function that is convex.\n",
    "$$\\ell(\\hat{y}, y)=-(y \\log \\hat{y}+(1-y) \\log (1-\\hat{y}))$$\n",
    "##### intuition\n",
    "if y==1, loss=-log(y hat), in order to let the loss function small, we need y hat to larger whereas the lagest value of y hat is 1(due to the sigmol function), so y hat should be as close as possible to 1.\n",
    "Same goes to if y==0."
   ]
  },
  {
   "cell_type": "code",
   "execution_count": null,
   "metadata": {},
   "outputs": [],
   "source": []
  },
  {
   "cell_type": "markdown",
   "metadata": {},
   "source": [
    "#### 3. Cost function describe how well the whole training set performs\n",
    "$$J(w, b)=\\frac{1}{m} \\sum_{m=1}^{m} \\mathcal{L}\\left(\\hat{y}^{(i)}, y^{(i)}\\right)=-\\frac{1}{m} \\sum_{m=1}^{m} y^{(i)} \\log \\widehat{y}^{(i)}+\\left(1-y^{(i)}\\right) \\log \\left(1-\\hat{y}^{(i)}\\right)$$"
   ]
  },
  {
   "cell_type": "markdown",
   "metadata": {},
   "source": []
  },
  {
   "cell_type": "markdown",
   "metadata": {},
   "source": [
    "#### 4. Gradient descent is a way to learn the parameters w and b\n",
    "alpha is called the learning rate\n",
    "$$\\omega :=\\omega-\\alpha \\frac{d J(\\omega)}{d \\omega}$$\n",
    "Back propagation is actually calculating the the gradient descent since the gradient descent is all about partial derivitive. "
   ]
  },
  {
   "cell_type": "markdown",
   "metadata": {},
   "source": [
    "#### 5. one training example in gradient descent"
   ]
  },
  {
   "cell_type": "code",
   "execution_count": null,
   "metadata": {},
   "outputs": [],
   "source": []
  },
  {
   "cell_type": "code",
   "execution_count": null,
   "metadata": {},
   "outputs": [],
   "source": []
  },
  {
   "cell_type": "markdown",
   "metadata": {},
   "source": [
    "#### 6. m training examples in one step of gradient descent"
   ]
  },
  {
   "cell_type": "code",
   "execution_count": null,
   "metadata": {},
   "outputs": [],
   "source": []
  },
  {
   "cell_type": "code",
   "execution_count": null,
   "metadata": {},
   "outputs": [],
   "source": []
  },
  {
   "cell_type": "markdown",
   "metadata": {},
   "source": [
    "#### 7. vectorization"
   ]
  },
  {
   "cell_type": "code",
   "execution_count": 9,
   "metadata": {},
   "outputs": [
    {
     "name": "stdout",
     "output_type": "stream",
     "text": [
      "250029.38477480848\n",
      "Vectorize version: 1.6069412231445312 ms\n",
      "250029.38477481078\n",
      "For loop: 447.221040725708 ms\n"
     ]
    }
   ],
   "source": [
    "import numpy as np\n",
    "import time\n",
    "\n",
    "\"\"\"\n",
    "np.abs\n",
    "np.log\n",
    "np.exp\n",
    "np.maximum\n",
    "\"\"\"\n",
    "\n",
    "a = np.random.rand(1000000)\n",
    "b = np.random.rand(1000000)\n",
    "\n",
    "start = time.time()\n",
    "result = np.dot(a,b)\n",
    "end = time.time()\n",
    "print(result)\n",
    "print(f\"Vectorize version: {1000*(end-start)} ms\")\n",
    "\n",
    "result = 0\n",
    "start = time.time()\n",
    "for x in range(len(a)):\n",
    "    result+=a[x]*b[x]\n",
    "end = time.time()\n",
    "print(result)\n",
    "print(f\"For loop: {1000*(end-start)} ms\")"
   ]
  },
  {
   "cell_type": "markdown",
   "metadata": {},
   "source": [
    "#### 8. numpy broadcasting"
   ]
  },
  {
   "cell_type": "code",
   "execution_count": 15,
   "metadata": {},
   "outputs": [
    {
     "name": "stdout",
     "output_type": "stream",
     "text": [
      "[0.99762089 0.91231231 0.89120489 0.81176301 0.01483959 0.35683108\n",
      " 0.86158341 0.5089505  0.45216609 0.84169764]\n"
     ]
    },
    {
     "data": {
      "text/plain": [
       "array([100.99762089, 100.91231231, 100.89120489, 100.81176301,\n",
       "       100.01483959, 100.35683108, 100.86158341, 100.5089505 ,\n",
       "       100.45216609, 100.84169764])"
      ]
     },
     "execution_count": 15,
     "metadata": {},
     "output_type": "execute_result"
    }
   ],
   "source": [
    "x = np.random.rand(10)\n",
    "print(x)\n",
    "x+100 # this will duplicate 100 to 10*1 column vector"
   ]
  },
  {
   "cell_type": "markdown",
   "metadata": {},
   "source": [
    "#### 9. Tips of using numpy"
   ]
  },
  {
   "cell_type": "code",
   "execution_count": 18,
   "metadata": {},
   "outputs": [
    {
     "name": "stdout",
     "output_type": "stream",
     "text": [
      "[-0.15983725  2.12837109 -0.7692904  -0.41988178]\n",
      "(4,)\n"
     ]
    }
   ],
   "source": [
    "# avoid using array with rank 1\n",
    "m = np.random.randn(4)\n",
    "print(m)\n",
    "print(m.shape) # rank 1"
   ]
  },
  {
   "cell_type": "code",
   "execution_count": 19,
   "metadata": {},
   "outputs": [
    {
     "name": "stdout",
     "output_type": "stream",
     "text": [
      "[[ 0.71208347]\n",
      " [-0.50313858]\n",
      " [ 0.18703288]\n",
      " [-0.3009337 ]]\n",
      "(4, 1)\n"
     ]
    }
   ],
   "source": [
    "# insdead use \n",
    "m = np.random.randn(4,1)\n",
    "print(m)\n",
    "print(m.shape)"
   ]
  },
  {
   "cell_type": "code",
   "execution_count": 21,
   "metadata": {},
   "outputs": [
    {
     "name": "stdout",
     "output_type": "stream",
     "text": [
      "[[-1.4850734   0.22061856 -0.72193109  0.97893229]]\n",
      "(1, 4)\n"
     ]
    }
   ],
   "source": [
    "# reshape: essentially, the idea is to specify the num of cols and num of rows clearly\n",
    "m = np.random.randn(4)\n",
    "m = m.reshape((1,4))\n",
    "print(m)\n",
    "print(m.shape)"
   ]
  },
  {
   "cell_type": "code",
   "execution_count": null,
   "metadata": {},
   "outputs": [],
   "source": []
  },
  {
   "cell_type": "code",
   "execution_count": null,
   "metadata": {},
   "outputs": [],
   "source": []
  },
  {
   "cell_type": "code",
   "execution_count": null,
   "metadata": {},
   "outputs": [],
   "source": []
  },
  {
   "cell_type": "code",
   "execution_count": null,
   "metadata": {},
   "outputs": [],
   "source": []
  },
  {
   "cell_type": "code",
   "execution_count": null,
   "metadata": {},
   "outputs": [],
   "source": []
  }
 ],
 "metadata": {
  "kernelspec": {
   "display_name": "Python 3",
   "language": "python",
   "name": "python3"
  },
  "language_info": {
   "codemirror_mode": {
    "name": "ipython",
    "version": 3
   },
   "file_extension": ".py",
   "mimetype": "text/x-python",
   "name": "python",
   "nbconvert_exporter": "python",
   "pygments_lexer": "ipython3",
   "version": "3.7.1"
  }
 },
 "nbformat": 4,
 "nbformat_minor": 2
}
